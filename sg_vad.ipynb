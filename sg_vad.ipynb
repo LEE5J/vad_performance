{
 "cells": [
  {
   "cell_type": "code",
   "execution_count": 1,
   "metadata": {},
   "outputs": [
    {
     "name": "stderr",
     "output_type": "stream",
     "text": [
      "[NeMo W 2025-01-21 09:18:40 nemo_logging:349] /home/lsj/anaconda3/envs/sgvad/lib/python3.9/site-packages/megatron/core/tensor_parallel/layers.py:243: FutureWarning: `torch.cuda.amp.custom_fwd(args...)` is deprecated. Please use `torch.amp.custom_fwd(args..., device_type='cuda')` instead.\n",
      "      def forward(\n",
      "    \n",
      "[NeMo W 2025-01-21 09:18:40 nemo_logging:349] /home/lsj/anaconda3/envs/sgvad/lib/python3.9/site-packages/megatron/core/tensor_parallel/layers.py:254: FutureWarning: `torch.cuda.amp.custom_bwd(args...)` is deprecated. Please use `torch.amp.custom_bwd(args..., device_type='cuda')` instead.\n",
      "      def backward(ctx, grad_output):\n",
      "    \n",
      "[NeMo W 2025-01-21 09:18:40 nemo_logging:349] /home/lsj/anaconda3/envs/sgvad/lib/python3.9/site-packages/megatron/core/tensor_parallel/layers.py:314: FutureWarning: `torch.cuda.amp.custom_fwd(args...)` is deprecated. Please use `torch.amp.custom_fwd(args..., device_type='cuda')` instead.\n",
      "      def forward(\n",
      "    \n",
      "[NeMo W 2025-01-21 09:18:40 nemo_logging:349] /home/lsj/anaconda3/envs/sgvad/lib/python3.9/site-packages/megatron/core/tensor_parallel/layers.py:349: FutureWarning: `torch.cuda.amp.custom_bwd(args...)` is deprecated. Please use `torch.amp.custom_bwd(args..., device_type='cuda')` instead.\n",
      "      def backward(ctx, grad_output):\n",
      "    \n",
      "[NeMo W 2025-01-21 09:18:42 nemo_logging:349] /home/lsj/anaconda3/envs/sgvad/lib/python3.9/site-packages/transformers/utils/generic.py:311: FutureWarning: `torch.utils._pytree._register_pytree_node` is deprecated. Please use `torch.utils._pytree.register_pytree_node` instead.\n",
      "      torch.utils._pytree._register_pytree_node(\n",
      "    \n",
      "[NeMo W 2025-01-21 09:18:42 nemo_logging:349] /home/lsj/vad_performance/sgvad.py:41: FutureWarning: You are using `torch.load` with `weights_only=False` (the current default value), which uses the default pickle module implicitly. It is possible to construct malicious pickle data which will execute arbitrary code during unpickling (See https://github.com/pytorch/pytorch/blob/main/SECURITY.md#untrusted-models for more details). In a future release, the default value for `weights_only` will be flipped to `True`. This limits the functions that could be executed during unpickling. Arbitrary objects will no longer be allowed to be loaded via this mode unless they are explicitly allowlisted by the user via `torch.serialization.add_safe_globals`. We recommend you start setting `weights_only=True` for any use case where you don't have full control of the loaded file. Please open an issue on GitHub for any issues related to this experimental feature.\n",
      "      ckpt = torch.load(cfg.ckpt, map_location='cpu')\n",
      "    \n"
     ]
    }
   ],
   "source": [
    "from sgvad import SGVAD\n",
    "import glob\n",
    "\n",
    "\n",
    "if __name__ == \"__main__\":\n",
    "    sgvad = SGVAD.init_from_ckpt()\n",
    "    for fpath in glob.glob(\"test/*.wav\"):\n",
    "        label = {0: \"Non Speech\", 1: \"Speech\"}\n",
    "        print(f\"Audio: {fpath} is {label[sgvad.predict(fpath)]}\")"
   ]
  }
 ],
 "metadata": {
  "kernelspec": {
   "display_name": "sgvad",
   "language": "python",
   "name": "python3"
  },
  "language_info": {
   "codemirror_mode": {
    "name": "ipython",
    "version": 3
   },
   "file_extension": ".py",
   "mimetype": "text/x-python",
   "name": "python",
   "nbconvert_exporter": "python",
   "pygments_lexer": "ipython3",
   "version": "3.9.21"
  }
 },
 "nbformat": 4,
 "nbformat_minor": 2
}
